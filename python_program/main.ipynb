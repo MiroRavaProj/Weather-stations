{
 "cells": [
  {
   "cell_type": "code",
   "execution_count": 11,
   "metadata": {
    "collapsed": true
   },
   "outputs": [],
   "source": [
    "import pandas as pd\n",
    "from meteostat import *\n",
    "from datetime import datetime, timedelta"
   ]
  },
  {
   "cell_type": "markdown",
   "source": [
    "Stations retrieve"
   ],
   "metadata": {
    "collapsed": false
   }
  },
  {
   "cell_type": "code",
   "execution_count": 9,
   "outputs": [
    {
     "data": {
      "text/plain": "                                    name country region    wmo  icao  \\\nid                                                                     \n00FAY                        Holden Agdm      CA     AB  71227  <NA>   \n00TG6                        Athabasca 1      CA     AB   <NA>  <NA>   \n01001                          Jan Mayen      NO   <NA>  01001  ENJA   \n01002                           Grahuken      NO     SJ  01002  <NA>   \n01003                           Hornsund      NO   <NA>  01003  <NA>   \n...                                  ...     ...    ...    ...   ...   \nZX07Q                            Okotoks      CA     AB   <NA>  <NA>   \nZXYDC                          Bonavista      CA     NL  71178  <NA>   \nZYC17                   Kingston Airport      CA     ON   <NA>  <NA>   \nZYITU  Selfridge Air National Guard Base      US     MI   <NA>  KMTC   \nZYTX0      Shenyang / Fengt'ien / Mukden      CN     LN   <NA>  ZYTX   \n\n       latitude  longitude  elevation          timezone hourly_start  \\\nid                                                                     \n00FAY   53.1900  -112.2500      688.0  America/Edmonton   2020-01-01   \n00TG6   54.7200  -113.2900      515.0  America/Edmonton          NaT   \n01001   70.9333    -8.6667       10.0       Europe/Oslo   1931-01-01   \n01002   79.7833    14.4667        0.0       Europe/Oslo   1986-11-09   \n01003   77.0000    15.5000       10.0       Europe/Oslo   1985-06-01   \n...         ...        ...        ...               ...          ...   \nZX07Q   50.7300  -113.9600     1081.0  America/Edmonton          NaT   \nZXYDC   48.6700   -53.1100       26.0  America/St_Johns   2020-01-01   \nZYC17   44.2300   -76.6000       92.0   America/Toronto   2020-01-01   \nZYITU   42.6046   -82.8353      177.0   America/Detroit   2022-04-23   \nZYTX0   41.8000   123.4000       35.0     Asia/Shanghai   1992-07-01   \n\n      hourly_end daily_start  daily_end monthly_start monthly_end  \nid                                                                 \n00FAY 2022-12-14  2002-11-01 2022-12-10    2003-01-01  2022-01-01  \n00TG6        NaT  2000-01-01 2022-07-12    2000-01-01  2010-01-01  \n01001 2023-01-30  1921-12-31 2023-02-09    1922-01-01  2022-01-01  \n01002 2023-01-28  2010-10-07 2020-08-17           NaT         NaT  \n01003 2023-01-30  2009-11-26 2020-08-31    2016-01-01  2017-01-01  \n...          ...         ...        ...           ...         ...  \nZX07Q        NaT  2000-01-01 2022-12-02    2000-01-01  2021-01-01  \nZXYDC 2022-12-14  2006-07-09 2022-12-11    2006-01-01  2022-01-01  \nZYC17 2022-12-15  2018-10-29 2022-12-12    2019-01-01  2022-01-01  \nZYITU 2023-02-12  2022-04-24 2022-04-25           NaT         NaT  \nZYTX0 2023-02-12  1994-03-07 2022-04-25    2006-01-01  2022-01-01  \n\n[15657 rows x 15 columns]",
      "text/html": "<div>\n<style scoped>\n    .dataframe tbody tr th:only-of-type {\n        vertical-align: middle;\n    }\n\n    .dataframe tbody tr th {\n        vertical-align: top;\n    }\n\n    .dataframe thead th {\n        text-align: right;\n    }\n</style>\n<table border=\"1\" class=\"dataframe\">\n  <thead>\n    <tr style=\"text-align: right;\">\n      <th></th>\n      <th>name</th>\n      <th>country</th>\n      <th>region</th>\n      <th>wmo</th>\n      <th>icao</th>\n      <th>latitude</th>\n      <th>longitude</th>\n      <th>elevation</th>\n      <th>timezone</th>\n      <th>hourly_start</th>\n      <th>hourly_end</th>\n      <th>daily_start</th>\n      <th>daily_end</th>\n      <th>monthly_start</th>\n      <th>monthly_end</th>\n    </tr>\n    <tr>\n      <th>id</th>\n      <th></th>\n      <th></th>\n      <th></th>\n      <th></th>\n      <th></th>\n      <th></th>\n      <th></th>\n      <th></th>\n      <th></th>\n      <th></th>\n      <th></th>\n      <th></th>\n      <th></th>\n      <th></th>\n      <th></th>\n    </tr>\n  </thead>\n  <tbody>\n    <tr>\n      <th>00FAY</th>\n      <td>Holden Agdm</td>\n      <td>CA</td>\n      <td>AB</td>\n      <td>71227</td>\n      <td>&lt;NA&gt;</td>\n      <td>53.1900</td>\n      <td>-112.2500</td>\n      <td>688.0</td>\n      <td>America/Edmonton</td>\n      <td>2020-01-01</td>\n      <td>2022-12-14</td>\n      <td>2002-11-01</td>\n      <td>2022-12-10</td>\n      <td>2003-01-01</td>\n      <td>2022-01-01</td>\n    </tr>\n    <tr>\n      <th>00TG6</th>\n      <td>Athabasca 1</td>\n      <td>CA</td>\n      <td>AB</td>\n      <td>&lt;NA&gt;</td>\n      <td>&lt;NA&gt;</td>\n      <td>54.7200</td>\n      <td>-113.2900</td>\n      <td>515.0</td>\n      <td>America/Edmonton</td>\n      <td>NaT</td>\n      <td>NaT</td>\n      <td>2000-01-01</td>\n      <td>2022-07-12</td>\n      <td>2000-01-01</td>\n      <td>2010-01-01</td>\n    </tr>\n    <tr>\n      <th>01001</th>\n      <td>Jan Mayen</td>\n      <td>NO</td>\n      <td>&lt;NA&gt;</td>\n      <td>01001</td>\n      <td>ENJA</td>\n      <td>70.9333</td>\n      <td>-8.6667</td>\n      <td>10.0</td>\n      <td>Europe/Oslo</td>\n      <td>1931-01-01</td>\n      <td>2023-01-30</td>\n      <td>1921-12-31</td>\n      <td>2023-02-09</td>\n      <td>1922-01-01</td>\n      <td>2022-01-01</td>\n    </tr>\n    <tr>\n      <th>01002</th>\n      <td>Grahuken</td>\n      <td>NO</td>\n      <td>SJ</td>\n      <td>01002</td>\n      <td>&lt;NA&gt;</td>\n      <td>79.7833</td>\n      <td>14.4667</td>\n      <td>0.0</td>\n      <td>Europe/Oslo</td>\n      <td>1986-11-09</td>\n      <td>2023-01-28</td>\n      <td>2010-10-07</td>\n      <td>2020-08-17</td>\n      <td>NaT</td>\n      <td>NaT</td>\n    </tr>\n    <tr>\n      <th>01003</th>\n      <td>Hornsund</td>\n      <td>NO</td>\n      <td>&lt;NA&gt;</td>\n      <td>01003</td>\n      <td>&lt;NA&gt;</td>\n      <td>77.0000</td>\n      <td>15.5000</td>\n      <td>10.0</td>\n      <td>Europe/Oslo</td>\n      <td>1985-06-01</td>\n      <td>2023-01-30</td>\n      <td>2009-11-26</td>\n      <td>2020-08-31</td>\n      <td>2016-01-01</td>\n      <td>2017-01-01</td>\n    </tr>\n    <tr>\n      <th>...</th>\n      <td>...</td>\n      <td>...</td>\n      <td>...</td>\n      <td>...</td>\n      <td>...</td>\n      <td>...</td>\n      <td>...</td>\n      <td>...</td>\n      <td>...</td>\n      <td>...</td>\n      <td>...</td>\n      <td>...</td>\n      <td>...</td>\n      <td>...</td>\n      <td>...</td>\n    </tr>\n    <tr>\n      <th>ZX07Q</th>\n      <td>Okotoks</td>\n      <td>CA</td>\n      <td>AB</td>\n      <td>&lt;NA&gt;</td>\n      <td>&lt;NA&gt;</td>\n      <td>50.7300</td>\n      <td>-113.9600</td>\n      <td>1081.0</td>\n      <td>America/Edmonton</td>\n      <td>NaT</td>\n      <td>NaT</td>\n      <td>2000-01-01</td>\n      <td>2022-12-02</td>\n      <td>2000-01-01</td>\n      <td>2021-01-01</td>\n    </tr>\n    <tr>\n      <th>ZXYDC</th>\n      <td>Bonavista</td>\n      <td>CA</td>\n      <td>NL</td>\n      <td>71178</td>\n      <td>&lt;NA&gt;</td>\n      <td>48.6700</td>\n      <td>-53.1100</td>\n      <td>26.0</td>\n      <td>America/St_Johns</td>\n      <td>2020-01-01</td>\n      <td>2022-12-14</td>\n      <td>2006-07-09</td>\n      <td>2022-12-11</td>\n      <td>2006-01-01</td>\n      <td>2022-01-01</td>\n    </tr>\n    <tr>\n      <th>ZYC17</th>\n      <td>Kingston Airport</td>\n      <td>CA</td>\n      <td>ON</td>\n      <td>&lt;NA&gt;</td>\n      <td>&lt;NA&gt;</td>\n      <td>44.2300</td>\n      <td>-76.6000</td>\n      <td>92.0</td>\n      <td>America/Toronto</td>\n      <td>2020-01-01</td>\n      <td>2022-12-15</td>\n      <td>2018-10-29</td>\n      <td>2022-12-12</td>\n      <td>2019-01-01</td>\n      <td>2022-01-01</td>\n    </tr>\n    <tr>\n      <th>ZYITU</th>\n      <td>Selfridge Air National Guard Base</td>\n      <td>US</td>\n      <td>MI</td>\n      <td>&lt;NA&gt;</td>\n      <td>KMTC</td>\n      <td>42.6046</td>\n      <td>-82.8353</td>\n      <td>177.0</td>\n      <td>America/Detroit</td>\n      <td>2022-04-23</td>\n      <td>2023-02-12</td>\n      <td>2022-04-24</td>\n      <td>2022-04-25</td>\n      <td>NaT</td>\n      <td>NaT</td>\n    </tr>\n    <tr>\n      <th>ZYTX0</th>\n      <td>Shenyang / Fengt'ien / Mukden</td>\n      <td>CN</td>\n      <td>LN</td>\n      <td>&lt;NA&gt;</td>\n      <td>ZYTX</td>\n      <td>41.8000</td>\n      <td>123.4000</td>\n      <td>35.0</td>\n      <td>Asia/Shanghai</td>\n      <td>1992-07-01</td>\n      <td>2023-02-12</td>\n      <td>1994-03-07</td>\n      <td>2022-04-25</td>\n      <td>2006-01-01</td>\n      <td>2022-01-01</td>\n    </tr>\n  </tbody>\n</table>\n<p>15657 rows × 15 columns</p>\n</div>"
     },
     "execution_count": 9,
     "metadata": {},
     "output_type": "execute_result"
    }
   ],
   "source": [
    "stations = Stations().fetch()\n",
    "\n",
    "stations"
   ],
   "metadata": {
    "collapsed": false,
    "pycharm": {
     "name": "#%%\n"
    }
   }
  },
  {
   "cell_type": "markdown",
   "source": [
    "Cleanup"
   ],
   "metadata": {
    "collapsed": false
   }
  },
  {
   "cell_type": "code",
   "execution_count": null,
   "outputs": [],
   "source": [
    "stations.dropna"
   ],
   "metadata": {
    "collapsed": false,
    "pycharm": {
     "name": "#%%\n"
    }
   }
  },
  {
   "cell_type": "code",
   "execution_count": 18,
   "outputs": [
    {
     "data": {
      "text/plain": "name                0\ncountry             9\nregion            175\nwmo              1044\nicao             1524\nlatitude            0\nlongitude           0\nelevation           0\ntimezone            6\nhourly_start      678\nhourly_end        677\ndaily_start      2080\ndaily_end        2080\nmonthly_start    1802\nmonthly_end      1802\ndtype: int64"
     },
     "execution_count": 18,
     "metadata": {},
     "output_type": "execute_result"
    }
   ],
   "source": [
    "last_week = datetime.now() - timedelta(7)\n",
    "stations = stations.drop(stations[stations.daily_end<=last_week].index)\n",
    "stations.isnull().sum()"
   ],
   "metadata": {
    "collapsed": false,
    "pycharm": {
     "name": "#%%\n"
    }
   }
  }
 ],
 "metadata": {
  "kernelspec": {
   "display_name": "Python 3",
   "language": "python",
   "name": "python3"
  },
  "language_info": {
   "codemirror_mode": {
    "name": "ipython",
    "version": 2
   },
   "file_extension": ".py",
   "mimetype": "text/x-python",
   "name": "python",
   "nbconvert_exporter": "python",
   "pygments_lexer": "ipython2",
   "version": "2.7.6"
  }
 },
 "nbformat": 4,
 "nbformat_minor": 0
}